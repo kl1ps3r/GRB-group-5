{
 "cells": [
  {
   "cell_type": "code",
   "execution_count": 1,
   "id": "initial_id",
   "metadata": {
    "collapsed": true,
    "ExecuteTime": {
     "end_time": "2024-04-09T11:50:29.006550100Z",
     "start_time": "2024-04-09T11:50:28.643359600Z"
    }
   },
   "outputs": [],
   "source": [
    "import numpy as np"
   ]
  },
  {
   "cell_type": "code",
   "execution_count": 2,
   "outputs": [],
   "source": [
    "D = 1.\n",
    "\n",
    "dd1 = 1.25\n",
    "dd2 = 1.44\n",
    "\n",
    "dm1 = 2.5\n",
    "dm2 = 2.88"
   ],
   "metadata": {
    "collapsed": false,
    "ExecuteTime": {
     "end_time": "2024-04-09T11:51:25.076091200Z",
     "start_time": "2024-04-09T11:51:25.054765900Z"
    }
   },
   "id": "7c65b6a643197438"
  },
  {
   "cell_type": "code",
   "execution_count": 4,
   "outputs": [],
   "source": [
    "h1 = np.sqrt(D**2 + (dm2 - dd2)**2 / 4)\n",
    "h2 = np.sqrt(D**2 + (dm1 - dd1)**2 / 4)\n",
    "\n",
    "SA1 = 1 / 2 * (dd1 + dm1) * h1\n",
    "SA2 = 1 / 2 * (dd2 + dm2) * h2"
   ],
   "metadata": {
    "collapsed": false,
    "ExecuteTime": {
     "end_time": "2024-04-09T11:53:39.744056300Z",
     "start_time": "2024-04-09T11:53:39.732481Z"
    }
   },
   "id": "b4d7f44b4abdf519"
  },
  {
   "cell_type": "code",
   "execution_count": 17,
   "outputs": [
    {
     "name": "stdout",
     "output_type": "stream",
     "text": [
      "Total surface area of shield: 9.715226m^2\n"
     ]
    }
   ],
   "source": [
    "TSA = 2 * (SA1 + SA2)\n",
    "print(f\"Total surface area of shield: {TSA:f}m^2\")"
   ],
   "metadata": {
    "collapsed": false,
    "ExecuteTime": {
     "end_time": "2024-04-09T11:56:48.444411500Z",
     "start_time": "2024-04-09T11:56:48.422496100Z"
    }
   },
   "id": "6bfa18ea466edb35"
  },
  {
   "cell_type": "code",
   "execution_count": 26,
   "outputs": [],
   "source": [
    "K = 862\n",
    "Sn = 731\n",
    "Pb = 1135\n",
    "\n",
    "K_thick = 0.001\n",
    "Sn_thick = 0.01\n",
    "Pb_thick = 0.005"
   ],
   "metadata": {
    "collapsed": false,
    "ExecuteTime": {
     "end_time": "2024-04-09T15:37:26.947867800Z",
     "start_time": "2024-04-09T15:37:26.924450200Z"
    }
   },
   "id": "a29d30a18f03d8a6"
  },
  {
   "cell_type": "code",
   "execution_count": 27,
   "outputs": [
    {
     "data": {
      "text/plain": "134.52673928971032"
     },
     "execution_count": 27,
     "metadata": {},
     "output_type": "execute_result"
    }
   ],
   "source": [
    "K_mass = K * K_thick * TSA\n",
    "Mo_mass = Sn * Sn_thick * TSA\n",
    "Pb_mass = Pb * Pb_thick * TSA\n",
    "\n",
    "total_mass = K_mass + Mo_mass + Pb_mass\n",
    "total_mass"
   ],
   "metadata": {
    "collapsed": false,
    "ExecuteTime": {
     "end_time": "2024-04-09T15:37:33.338114300Z",
     "start_time": "2024-04-09T15:37:33.305508200Z"
    }
   },
   "id": "3d16fc34880f0918"
  },
  {
   "cell_type": "code",
   "execution_count": 23,
   "outputs": [
    {
     "data": {
      "text/plain": "0.00023268227424749164"
     },
     "execution_count": 23,
     "metadata": {},
     "output_type": "execute_result"
    }
   ],
   "source": [
    "c=2.99e8\n",
    "\n",
    "d = 35786 + (35786 - 2000)\n",
    "t =d / c\n",
    "t"
   ],
   "metadata": {
    "collapsed": false,
    "ExecuteTime": {
     "end_time": "2024-04-09T15:30:10.005853100Z",
     "start_time": "2024-04-09T15:30:09.944892400Z"
    }
   },
   "id": "80b70a95f5b7a305"
  },
  {
   "cell_type": "code",
   "execution_count": 30,
   "outputs": [
    {
     "data": {
      "text/plain": "40.59"
     },
     "execution_count": 30,
     "metadata": {},
     "output_type": "execute_result"
    }
   ],
   "source": [
    "125*144*.5*4.51/1000"
   ],
   "metadata": {
    "collapsed": false,
    "ExecuteTime": {
     "end_time": "2024-04-09T15:47:52.821818800Z",
     "start_time": "2024-04-09T15:47:52.790818100Z"
    }
   },
   "id": "55b5489aa02aa303"
  },
  {
   "cell_type": "code",
   "execution_count": 31,
   "outputs": [
    {
     "data": {
      "text/plain": "18000"
     },
     "execution_count": 31,
     "metadata": {},
     "output_type": "execute_result"
    }
   ],
   "source": [
    "125*144"
   ],
   "metadata": {
    "collapsed": false,
    "ExecuteTime": {
     "end_time": "2024-04-09T15:48:03.316793400Z",
     "start_time": "2024-04-09T15:48:03.272089500Z"
    }
   },
   "id": "23ab0172b3bce1c0"
  }
 ],
 "metadata": {
  "kernelspec": {
   "display_name": "Python 3",
   "language": "python",
   "name": "python3"
  },
  "language_info": {
   "codemirror_mode": {
    "name": "ipython",
    "version": 2
   },
   "file_extension": ".py",
   "mimetype": "text/x-python",
   "name": "python",
   "nbconvert_exporter": "python",
   "pygments_lexer": "ipython2",
   "version": "2.7.6"
  }
 },
 "nbformat": 4,
 "nbformat_minor": 5
}
