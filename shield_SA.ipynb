{
 "cells": [
  {
   "cell_type": "code",
   "execution_count": 1,
   "id": "initial_id",
   "metadata": {
    "collapsed": true,
    "ExecuteTime": {
     "end_time": "2024-04-09T11:50:29.006550100Z",
     "start_time": "2024-04-09T11:50:28.643359600Z"
    }
   },
   "outputs": [],
   "source": [
    "import numpy as np"
   ]
  },
  {
   "cell_type": "code",
   "execution_count": 2,
   "outputs": [],
   "source": [
    "D = 1.\n",
    "\n",
    "dd1 = 1.25\n",
    "dd2 = 1.44\n",
    "\n",
    "dm1 = 2.5\n",
    "dm2 = 2.88"
   ],
   "metadata": {
    "collapsed": false,
    "ExecuteTime": {
     "end_time": "2024-04-09T11:51:25.076091200Z",
     "start_time": "2024-04-09T11:51:25.054765900Z"
    }
   },
   "id": "7c65b6a643197438"
  },
  {
   "cell_type": "code",
   "execution_count": 4,
   "outputs": [],
   "source": [
    "h1 = np.sqrt(D**2 + (dm2 - dd2)**2 / 4)\n",
    "h2 = np.sqrt(D**2 + (dm1 - dd1)**2 / 4)\n",
    "\n",
    "SA1 = 1 / 2 * (dd1 + dm1) * h1\n",
    "SA2 = 1 / 2 * (dd2 + dm2) * h2"
   ],
   "metadata": {
    "collapsed": false,
    "ExecuteTime": {
     "end_time": "2024-04-09T11:53:39.744056300Z",
     "start_time": "2024-04-09T11:53:39.732481Z"
    }
   },
   "id": "b4d7f44b4abdf519"
  },
  {
   "cell_type": "code",
   "execution_count": 17,
   "outputs": [
    {
     "name": "stdout",
     "output_type": "stream",
     "text": [
      "Total surface area of shield: 9.715226m^2\n"
     ]
    }
   ],
   "source": [
    "TSA = 2 * (SA1 + SA2)\n",
    "print(f\"Total surface area of shield: {TSA:f}m^2\")"
   ],
   "metadata": {
    "collapsed": false,
    "ExecuteTime": {
     "end_time": "2024-04-09T11:56:48.444411500Z",
     "start_time": "2024-04-09T11:56:48.422496100Z"
    }
   },
   "id": "6bfa18ea466edb35"
  },
  {
   "cell_type": "code",
   "execution_count": 20,
   "outputs": [],
   "source": [
    "K = 862\n",
    "Mo = 1022\n",
    "Pb = 1135\n",
    "\n",
    "K_thick = 0.001\n",
    "Mo_thick = 0.01\n",
    "Pb_thick = 0.005"
   ],
   "metadata": {
    "collapsed": false,
    "ExecuteTime": {
     "end_time": "2024-04-09T11:59:45.646778600Z",
     "start_time": "2024-04-09T11:59:45.634138200Z"
    }
   },
   "id": "a29d30a18f03d8a6"
  },
  {
   "cell_type": "code",
   "execution_count": 21,
   "outputs": [
    {
     "data": {
      "text/plain": "162.79804797267826"
     },
     "execution_count": 21,
     "metadata": {},
     "output_type": "execute_result"
    }
   ],
   "source": [
    "K_mass = K * K_thick * TSA\n",
    "Mo_mass = Mo * Mo_thick * TSA\n",
    "Pb_mass = Pb * Pb_thick * TSA\n",
    "\n",
    "total_mass = K_mass + Mo_mass + Pb_mass\n",
    "total_mass"
   ],
   "metadata": {
    "collapsed": false,
    "ExecuteTime": {
     "end_time": "2024-04-09T12:01:19.705015Z",
     "start_time": "2024-04-09T12:01:19.660271600Z"
    }
   },
   "id": "3d16fc34880f0918"
  }
 ],
 "metadata": {
  "kernelspec": {
   "display_name": "Python 3",
   "language": "python",
   "name": "python3"
  },
  "language_info": {
   "codemirror_mode": {
    "name": "ipython",
    "version": 2
   },
   "file_extension": ".py",
   "mimetype": "text/x-python",
   "name": "python",
   "nbconvert_exporter": "python",
   "pygments_lexer": "ipython2",
   "version": "2.7.6"
  }
 },
 "nbformat": 4,
 "nbformat_minor": 5
}
