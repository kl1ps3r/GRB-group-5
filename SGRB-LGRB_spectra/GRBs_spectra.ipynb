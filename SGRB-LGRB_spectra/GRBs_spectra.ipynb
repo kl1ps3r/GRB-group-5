{
 "cells": [
  {
   "cell_type": "markdown",
   "id": "fa4a3d75",
   "metadata": {},
   "source": [
    "# Comparison between SGRBs and LGRBs using the Swift/BAT data integrated over its energy range (15-150 keV)\n",
    "\n",
    "All data extracted from: https://swift.gsfc.nasa.gov/archive/grb_table/, filtering for `BAT` $T_{90} > 2$ `seconds` for LGRBs and `BAT` $T_{90} > 2$ `seconds`."
   ]
  },
  {
   "cell_type": "code",
   "execution_count": 1,
   "id": "ee403003",
   "metadata": {
    "scrolled": true
   },
   "outputs": [
    {
     "data": {
      "text/html": [
       "<div>\n",
       "<style scoped>\n",
       "    .dataframe tbody tr th:only-of-type {\n",
       "        vertical-align: middle;\n",
       "    }\n",
       "\n",
       "    .dataframe tbody tr th {\n",
       "        vertical-align: top;\n",
       "    }\n",
       "\n",
       "    .dataframe thead th {\n",
       "        text-align: right;\n",
       "    }\n",
       "</style>\n",
       "<table border=\"1\" class=\"dataframe\">\n",
       "  <thead>\n",
       "    <tr style=\"text-align: right;\">\n",
       "      <th></th>\n",
       "      <th>GRB</th>\n",
       "      <th>Time [UT]</th>\n",
       "      <th>Trigger Number</th>\n",
       "      <th>BAT RA (J2000)</th>\n",
       "      <th>BAT Dec (J2000)</th>\n",
       "      <th>BAT T90 [sec]</th>\n",
       "      <th>BAT Fluence (15-150 keV) [10^-7 erg/cm^2]</th>\n",
       "      <th>BAT Fluence 90% Error (15-150 keV) [10^-7 erg/cm^2]</th>\n",
       "      <th>XRT RA (J2000)</th>\n",
       "      <th>XRT Dec (J2000)</th>\n",
       "      <th>...</th>\n",
       "      <th>XRT Early Flux (0.3-10 keV) [10^-11 erg/cm^2/s]</th>\n",
       "      <th>UVOT RA (J2000)</th>\n",
       "      <th>UVOT Dec (J2000)</th>\n",
       "      <th>UVOT Time to First Observation [sec]</th>\n",
       "      <th>UVOT Magnitude</th>\n",
       "      <th>Other Observatory Detections</th>\n",
       "      <th>Redshift</th>\n",
       "      <th>Host Galaxy</th>\n",
       "      <th>Comments</th>\n",
       "      <th>References</th>\n",
       "    </tr>\n",
       "  </thead>\n",
       "  <tbody>\n",
       "    <tr>\n",
       "      <th>0</th>\n",
       "      <td>240222A</td>\n",
       "      <td>08:51:31</td>\n",
       "      <td>1216804</td>\n",
       "      <td>143.209</td>\n",
       "      <td>-68.034</td>\n",
       "      <td>3.94</td>\n",
       "      <td>2.50</td>\n",
       "      <td>0.30</td>\n",
       "      <td>09:32:54.10</td>\n",
       "      <td>-68:01:49.7</td>\n",
       "      <td>...</td>\n",
       "      <td>NaN</td>\n",
       "      <td>NaN</td>\n",
       "      <td>NaN</td>\n",
       "      <td>98</td>\n",
       "      <td>n/aV&gt;18.5</td>\n",
       "      <td>Fermi (GBM), GECAM, GRBAlpha</td>\n",
       "      <td>NaN</td>\n",
       "      <td>NaN</td>\n",
       "      <td>UVOT: no detection</td>\n",
       "      <td>NaN</td>\n",
       "    </tr>\n",
       "    <tr>\n",
       "      <th>1</th>\n",
       "      <td>240218A</td>\n",
       "      <td>02:00:00</td>\n",
       "      <td>1215912</td>\n",
       "      <td>161.810</td>\n",
       "      <td>1.295</td>\n",
       "      <td>66.93</td>\n",
       "      <td>52.00</td>\n",
       "      <td>3.00</td>\n",
       "      <td>10:47:11.24</td>\n",
       "      <td>01:16:34.8</td>\n",
       "      <td>...</td>\n",
       "      <td>327</td>\n",
       "      <td>NaN</td>\n",
       "      <td>NaN</td>\n",
       "      <td>158</td>\n",
       "      <td>NaN</td>\n",
       "      <td>REM (60cm), VLT, Fermi (GBM), Konus-Wind, LBT,...</td>\n",
       "      <td>6.782 (VLT: absorption)</td>\n",
       "      <td>NaN</td>\n",
       "      <td>NaN</td>\n",
       "      <td>NaN</td>\n",
       "    </tr>\n",
       "    <tr>\n",
       "      <th>2</th>\n",
       "      <td>240205B</td>\n",
       "      <td>22:13:06</td>\n",
       "      <td>1213095</td>\n",
       "      <td>351.466</td>\n",
       "      <td>-55.123</td>\n",
       "      <td>47.29</td>\n",
       "      <td>260.00</td>\n",
       "      <td>0.00</td>\n",
       "      <td>NaN</td>\n",
       "      <td>NaN</td>\n",
       "      <td>...</td>\n",
       "      <td>NaN</td>\n",
       "      <td>NaN</td>\n",
       "      <td>NaN</td>\n",
       "      <td>NaN</td>\n",
       "      <td>NaN</td>\n",
       "      <td>Fermi (GBM), MASTER, BOOTES-7 (0.6m), Skynet (...</td>\n",
       "      <td>0.824 (VLT: absorption)</td>\n",
       "      <td>NaN</td>\n",
       "      <td>This GRB is Sun constrained for Swift observat...</td>\n",
       "      <td>NaN</td>\n",
       "    </tr>\n",
       "    <tr>\n",
       "      <th>3</th>\n",
       "      <td>240204A</td>\n",
       "      <td>15:07:50.63</td>\n",
       "      <td>1212898</td>\n",
       "      <td>104.290</td>\n",
       "      <td>1.078</td>\n",
       "      <td>18.93</td>\n",
       "      <td>100.00</td>\n",
       "      <td>0.00</td>\n",
       "      <td>06:56:43.57</td>\n",
       "      <td>01:01:36.0</td>\n",
       "      <td>...</td>\n",
       "      <td>NaN</td>\n",
       "      <td>NaN</td>\n",
       "      <td>NaN</td>\n",
       "      <td>4800</td>\n",
       "      <td>V&gt;19.32</td>\n",
       "      <td>Fermi (GBM), Mondy (AZT-33IK), Montarrenti Obs...</td>\n",
       "      <td>NaN</td>\n",
       "      <td>NaN</td>\n",
       "      <td>BAT: Due to a telemetry outage, no realtime BA...</td>\n",
       "      <td>NaN</td>\n",
       "    </tr>\n",
       "    <tr>\n",
       "      <th>4</th>\n",
       "      <td>240123A</td>\n",
       "      <td>11:05:46</td>\n",
       "      <td>1210276</td>\n",
       "      <td>199.287</td>\n",
       "      <td>60.607</td>\n",
       "      <td>115.30</td>\n",
       "      <td>16.00</td>\n",
       "      <td>2.00</td>\n",
       "      <td>13:17:23.67</td>\n",
       "      <td>60:37:06.5</td>\n",
       "      <td>...</td>\n",
       "      <td>73</td>\n",
       "      <td>13:17:23.25</td>\n",
       "      <td>60:37:04.4</td>\n",
       "      <td>151</td>\n",
       "      <td>NaN</td>\n",
       "      <td>Mondy (AZT-33IK), Fermi (GBM: Sub-Threshold), ...</td>\n",
       "      <td>NaN</td>\n",
       "      <td>NaN</td>\n",
       "      <td>NaN</td>\n",
       "      <td>NaN</td>\n",
       "    </tr>\n",
       "    <tr>\n",
       "      <th>...</th>\n",
       "      <td>...</td>\n",
       "      <td>...</td>\n",
       "      <td>...</td>\n",
       "      <td>...</td>\n",
       "      <td>...</td>\n",
       "      <td>...</td>\n",
       "      <td>...</td>\n",
       "      <td>...</td>\n",
       "      <td>...</td>\n",
       "      <td>...</td>\n",
       "      <td>...</td>\n",
       "      <td>...</td>\n",
       "      <td>...</td>\n",
       "      <td>...</td>\n",
       "      <td>...</td>\n",
       "      <td>...</td>\n",
       "      <td>...</td>\n",
       "      <td>...</td>\n",
       "      <td>...</td>\n",
       "      <td>...</td>\n",
       "      <td>...</td>\n",
       "    </tr>\n",
       "    <tr>\n",
       "      <th>1381</th>\n",
       "      <td>041220</td>\n",
       "      <td>22:58:27</td>\n",
       "      <td>100433</td>\n",
       "      <td>291.288</td>\n",
       "      <td>60.598</td>\n",
       "      <td>5.600</td>\n",
       "      <td>3.83</td>\n",
       "      <td>0.28</td>\n",
       "      <td>NaN</td>\n",
       "      <td>NaN</td>\n",
       "      <td>...</td>\n",
       "      <td>NaN</td>\n",
       "      <td>NaN</td>\n",
       "      <td>NaN</td>\n",
       "      <td>NaN</td>\n",
       "      <td>NaN</td>\n",
       "      <td>NaN</td>\n",
       "      <td>NaN</td>\n",
       "      <td>NaN</td>\n",
       "      <td>BAT: FRED|No AT slew|XRT: no observation|UVOT:...</td>\n",
       "      <td>NaN</td>\n",
       "    </tr>\n",
       "    <tr>\n",
       "      <th>1382</th>\n",
       "      <td>041219C</td>\n",
       "      <td>20:30:34</td>\n",
       "      <td>100380*</td>\n",
       "      <td>343.926</td>\n",
       "      <td>-76.744</td>\n",
       "      <td>4.800</td>\n",
       "      <td>13.10</td>\n",
       "      <td>0.73</td>\n",
       "      <td>NaN</td>\n",
       "      <td>NaN</td>\n",
       "      <td>...</td>\n",
       "      <td>NaN</td>\n",
       "      <td>NaN</td>\n",
       "      <td>NaN</td>\n",
       "      <td>NaN</td>\n",
       "      <td>NaN</td>\n",
       "      <td>NaN</td>\n",
       "      <td>NaN</td>\n",
       "      <td>NaN</td>\n",
       "      <td>BAT: 3 spikes|No AT slew|XRT: no observation|U...</td>\n",
       "      <td>NaN</td>\n",
       "    </tr>\n",
       "    <tr>\n",
       "      <th>1383</th>\n",
       "      <td>041219B</td>\n",
       "      <td>15:38:48</td>\n",
       "      <td>100367*</td>\n",
       "      <td>167.674</td>\n",
       "      <td>-33.458</td>\n",
       "      <td>30</td>\n",
       "      <td>NaN</td>\n",
       "      <td>NaN</td>\n",
       "      <td>NaN</td>\n",
       "      <td>NaN</td>\n",
       "      <td>...</td>\n",
       "      <td>NaN</td>\n",
       "      <td>NaN</td>\n",
       "      <td>NaN</td>\n",
       "      <td>NaN</td>\n",
       "      <td>NaN</td>\n",
       "      <td>IPN</td>\n",
       "      <td>NaN</td>\n",
       "      <td>NaN</td>\n",
       "      <td>BAT: 1 big spike, 3 little spikes|No AT slew|X...</td>\n",
       "      <td>NaN</td>\n",
       "    </tr>\n",
       "    <tr>\n",
       "      <th>1384</th>\n",
       "      <td>041219A</td>\n",
       "      <td>01:42:18</td>\n",
       "      <td>100307|100319</td>\n",
       "      <td>6.154</td>\n",
       "      <td>62.847</td>\n",
       "      <td>520</td>\n",
       "      <td>1550.00</td>\n",
       "      <td>NaN</td>\n",
       "      <td>NaN</td>\n",
       "      <td>NaN</td>\n",
       "      <td>...</td>\n",
       "      <td>NaN</td>\n",
       "      <td>NaN</td>\n",
       "      <td>NaN</td>\n",
       "      <td>NaN</td>\n",
       "      <td>NaN</td>\n",
       "      <td>NaN</td>\n",
       "      <td>NaN</td>\n",
       "      <td>NaN</td>\n",
       "      <td>BAT: bright, long, multipeaked|No AT slew|XRT:...</td>\n",
       "      <td>NaN</td>\n",
       "    </tr>\n",
       "    <tr>\n",
       "      <th>1385</th>\n",
       "      <td>041217</td>\n",
       "      <td>07:28:25</td>\n",
       "      <td>100116*</td>\n",
       "      <td>164.793</td>\n",
       "      <td>-17.942</td>\n",
       "      <td>5.800</td>\n",
       "      <td>27.70</td>\n",
       "      <td>1.23</td>\n",
       "      <td>NaN</td>\n",
       "      <td>NaN</td>\n",
       "      <td>...</td>\n",
       "      <td>NaN</td>\n",
       "      <td>NaN</td>\n",
       "      <td>NaN</td>\n",
       "      <td>NaN</td>\n",
       "      <td>NaN</td>\n",
       "      <td>INTEGRAL/IBIS</td>\n",
       "      <td>NaN</td>\n",
       "      <td>NaN</td>\n",
       "      <td>BAT: first GRB image|No AT slew|XRT: no observ...</td>\n",
       "      <td>NaN</td>\n",
       "    </tr>\n",
       "  </tbody>\n",
       "</table>\n",
       "<p>1386 rows × 21 columns</p>\n",
       "</div>"
      ],
      "text/plain": [
       "          GRB    Time [UT] Trigger Number  BAT RA (J2000)  BAT Dec (J2000)  \\\n",
       "0     240222A     08:51:31        1216804         143.209          -68.034   \n",
       "1     240218A     02:00:00        1215912         161.810            1.295   \n",
       "2     240205B     22:13:06        1213095         351.466          -55.123   \n",
       "3     240204A  15:07:50.63        1212898         104.290            1.078   \n",
       "4     240123A     11:05:46        1210276         199.287           60.607   \n",
       "...       ...          ...            ...             ...              ...   \n",
       "1381   041220     22:58:27         100433         291.288           60.598   \n",
       "1382  041219C     20:30:34        100380*         343.926          -76.744   \n",
       "1383  041219B     15:38:48        100367*         167.674          -33.458   \n",
       "1384  041219A     01:42:18  100307|100319           6.154           62.847   \n",
       "1385   041217     07:28:25        100116*         164.793          -17.942   \n",
       "\n",
       "     BAT T90 [sec]  BAT Fluence (15-150 keV) [10^-7 erg/cm^2]  \\\n",
       "0             3.94                                       2.50   \n",
       "1            66.93                                      52.00   \n",
       "2            47.29                                     260.00   \n",
       "3            18.93                                     100.00   \n",
       "4           115.30                                      16.00   \n",
       "...            ...                                        ...   \n",
       "1381         5.600                                       3.83   \n",
       "1382         4.800                                      13.10   \n",
       "1383            30                                        NaN   \n",
       "1384           520                                    1550.00   \n",
       "1385         5.800                                      27.70   \n",
       "\n",
       "      BAT Fluence 90% Error (15-150 keV) [10^-7 erg/cm^2] XRT RA (J2000)  \\\n",
       "0                                                  0.30      09:32:54.10   \n",
       "1                                                  3.00      10:47:11.24   \n",
       "2                                                  0.00              NaN   \n",
       "3                                                  0.00      06:56:43.57   \n",
       "4                                                  2.00      13:17:23.67   \n",
       "...                                                 ...              ...   \n",
       "1381                                               0.28              NaN   \n",
       "1382                                               0.73              NaN   \n",
       "1383                                                NaN              NaN   \n",
       "1384                                                NaN              NaN   \n",
       "1385                                               1.23              NaN   \n",
       "\n",
       "     XRT Dec (J2000)  ...  XRT Early Flux (0.3-10 keV) [10^-11 erg/cm^2/s]  \\\n",
       "0        -68:01:49.7  ...                                              NaN   \n",
       "1         01:16:34.8  ...                                              327   \n",
       "2                NaN  ...                                              NaN   \n",
       "3         01:01:36.0  ...                                              NaN   \n",
       "4         60:37:06.5  ...                                               73   \n",
       "...              ...  ...                                              ...   \n",
       "1381             NaN  ...                                              NaN   \n",
       "1382             NaN  ...                                              NaN   \n",
       "1383             NaN  ...                                              NaN   \n",
       "1384             NaN  ...                                              NaN   \n",
       "1385             NaN  ...                                              NaN   \n",
       "\n",
       "     UVOT RA (J2000) UVOT Dec (J2000) UVOT Time to First Observation [sec]  \\\n",
       "0                NaN              NaN                                   98   \n",
       "1                NaN              NaN                                  158   \n",
       "2                NaN              NaN                                  NaN   \n",
       "3                NaN              NaN                                 4800   \n",
       "4        13:17:23.25       60:37:04.4                                  151   \n",
       "...              ...              ...                                  ...   \n",
       "1381             NaN              NaN                                  NaN   \n",
       "1382             NaN              NaN                                  NaN   \n",
       "1383             NaN              NaN                                  NaN   \n",
       "1384             NaN              NaN                                  NaN   \n",
       "1385             NaN              NaN                                  NaN   \n",
       "\n",
       "     UVOT Magnitude                       Other Observatory Detections  \\\n",
       "0         n/aV>18.5                       Fermi (GBM), GECAM, GRBAlpha   \n",
       "1               NaN  REM (60cm), VLT, Fermi (GBM), Konus-Wind, LBT,...   \n",
       "2               NaN  Fermi (GBM), MASTER, BOOTES-7 (0.6m), Skynet (...   \n",
       "3           V>19.32  Fermi (GBM), Mondy (AZT-33IK), Montarrenti Obs...   \n",
       "4               NaN  Mondy (AZT-33IK), Fermi (GBM: Sub-Threshold), ...   \n",
       "...             ...                                                ...   \n",
       "1381            NaN                                                NaN   \n",
       "1382            NaN                                                NaN   \n",
       "1383            NaN                                                IPN   \n",
       "1384            NaN                                                NaN   \n",
       "1385            NaN                                      INTEGRAL/IBIS   \n",
       "\n",
       "                     Redshift Host Galaxy  \\\n",
       "0                         NaN         NaN   \n",
       "1     6.782 (VLT: absorption)         NaN   \n",
       "2     0.824 (VLT: absorption)         NaN   \n",
       "3                         NaN         NaN   \n",
       "4                         NaN         NaN   \n",
       "...                       ...         ...   \n",
       "1381                      NaN         NaN   \n",
       "1382                      NaN         NaN   \n",
       "1383                      NaN         NaN   \n",
       "1384                      NaN         NaN   \n",
       "1385                      NaN         NaN   \n",
       "\n",
       "                                               Comments References  \n",
       "0                                    UVOT: no detection        NaN  \n",
       "1                                                   NaN        NaN  \n",
       "2     This GRB is Sun constrained for Swift observat...        NaN  \n",
       "3     BAT: Due to a telemetry outage, no realtime BA...        NaN  \n",
       "4                                                   NaN        NaN  \n",
       "...                                                 ...        ...  \n",
       "1381  BAT: FRED|No AT slew|XRT: no observation|UVOT:...        NaN  \n",
       "1382  BAT: 3 spikes|No AT slew|XRT: no observation|U...        NaN  \n",
       "1383  BAT: 1 big spike, 3 little spikes|No AT slew|X...        NaN  \n",
       "1384  BAT: bright, long, multipeaked|No AT slew|XRT:...        NaN  \n",
       "1385  BAT: first GRB image|No AT slew|XRT: no observ...        NaN  \n",
       "\n",
       "[1386 rows x 21 columns]"
      ]
     },
     "execution_count": 1,
     "metadata": {},
     "output_type": "execute_result"
    }
   ],
   "source": [
    "import pandas as pd\n",
    "import numpy as np\n",
    "\n",
    "LGRBs_data = pd.read_csv('lgrb_table_BAT_T90grt2s.txt', sep=\"\\t\", header=0)\n",
    "SGRBs_data = pd.read_csv('sgrb_table_BAT_T90lwt.txt', sep=\"\\t\", header=0)\n",
    "\n",
    "LGRBs_data"
   ]
  },
  {
   "cell_type": "code",
   "execution_count": 2,
   "id": "e3f1be20",
   "metadata": {},
   "outputs": [
    {
     "name": "stdout",
     "output_type": "stream",
     "text": [
      "Percentage of LGRBs detected by Swift: 90.94488188976378 %\n",
      "Percentage of SGRBs detected by Swift: 9.055118110236222 %\n"
     ]
    }
   ],
   "source": [
    "print('Percentage of LGRBs detected by Swift:', 100*len(LGRBs_data)/(len(SGRBs_data)+len(LGRBs_data)), '%')\n",
    "print('Percentage of SGRBs detected by Swift:', 100-100*len(LGRBs_data)/(len(SGRBs_data)+len(LGRBs_data)), '%')"
   ]
  },
  {
   "cell_type": "markdown",
   "id": "bafae1f6",
   "metadata": {},
   "source": [
    "## LGRBs"
   ]
  },
  {
   "cell_type": "code",
   "execution_count": 3,
   "id": "38dfd5c6",
   "metadata": {},
   "outputs": [
    {
     "name": "stderr",
     "output_type": "stream",
     "text": [
      "C:\\Users\\iriso\\AppData\\Local\\Temp\\ipykernel_11988\\2677979521.py:7: SettingWithCopyWarning: \n",
      "A value is trying to be set on a copy of a slice from a DataFrame\n",
      "\n",
      "See the caveats in the documentation: https://pandas.pydata.org/pandas-docs/stable/user_guide/indexing.html#returning-a-view-versus-a-copy\n",
      "  time_LGRBs[i] = float(temps)\n",
      "C:\\Users\\iriso\\AppData\\Local\\Temp\\ipykernel_11988\\2677979521.py:9: SettingWithCopyWarning: \n",
      "A value is trying to be set on a copy of a slice from a DataFrame\n",
      "\n",
      "See the caveats in the documentation: https://pandas.pydata.org/pandas-docs/stable/user_guide/indexing.html#returning-a-view-versus-a-copy\n",
      "  time_LGRBs[i] = float(temps.strip('~').strip('>').strip('<'))\n"
     ]
    }
   ],
   "source": [
    "fluence_LGRBs =  np.asarray(LGRBs_data['BAT Fluence (15-150 keV) [10^-7 erg/cm^2]'], dtype=float)\n",
    "time_LGRBs = LGRBs_data['BAT T90 [sec]']\n",
    "\n",
    "# gotta get rid of some characters like '>' and '<' to convert to float\n",
    "for temps, i in zip(time_LGRBs, range(len(time_LGRBs))):\n",
    "    try:\n",
    "        time_LGRBs[i] = float(temps)\n",
    "    except ValueError:\n",
    "        time_LGRBs[i] = float(temps.strip('~').strip('>').strip('<'))\n",
    "\n",
    "time_LGRBs = np.asarray(time_LGRBs, dtype=float) \n",
    "\n",
    "mean_energy = 0.5*(150-15) # to compute the flux we'll take the mean energy of the range\n",
    "# to rougly compute the flux, we divide the fluence by the duration of the burst (T_{90}) and the mean energy, squared (once to \n",
    "# transform ergs into photons and twice to transform it into photons/keV)\n",
    "flux_LGRBs = fluence_LGRBs*6.242*10**1/(time_LGRBs*(mean_energy**2)) # multiplied by 6.242*10**8 to convert ergs to keV and \n",
    "                                                                     # by 10**(-7), the order of magnitude of the fluence"
   ]
  },
  {
   "cell_type": "markdown",
   "id": "29ac23ea",
   "metadata": {},
   "source": [
    "## SGRBs"
   ]
  },
  {
   "cell_type": "code",
   "execution_count": 4,
   "id": "c2f2e020",
   "metadata": {
    "scrolled": true
   },
   "outputs": [
    {
     "name": "stderr",
     "output_type": "stream",
     "text": [
      "C:\\Users\\iriso\\AppData\\Local\\Temp\\ipykernel_11988\\3688422407.py:4: SettingWithCopyWarning: \n",
      "A value is trying to be set on a copy of a slice from a DataFrame\n",
      "\n",
      "See the caveats in the documentation: https://pandas.pydata.org/pandas-docs/stable/user_guide/indexing.html#returning-a-view-versus-a-copy\n",
      "  fluence_SGRBs[i] = float(flu)\n"
     ]
    },
    {
     "name": "stdout",
     "output_type": "stream",
     "text": [
      "ValueError\n",
      "n/a1.5\n"
     ]
    },
    {
     "name": "stderr",
     "output_type": "stream",
     "text": [
      "C:\\Users\\iriso\\AppData\\Local\\Temp\\ipykernel_11988\\3688422407.py:11: SettingWithCopyWarning: \n",
      "A value is trying to be set on a copy of a slice from a DataFrame\n",
      "\n",
      "See the caveats in the documentation: https://pandas.pydata.org/pandas-docs/stable/user_guide/indexing.html#returning-a-view-versus-a-copy\n",
      "  fluence_SGRBs[i] = float(flu.strip('n/a').strip('~'))\n"
     ]
    },
    {
     "name": "stdout",
     "output_type": "stream",
     "text": [
      "ValueError\n",
      "~0.9\n"
     ]
    },
    {
     "name": "stderr",
     "output_type": "stream",
     "text": [
      "C:\\Users\\iriso\\AppData\\Local\\Temp\\ipykernel_11988\\3688422407.py:19: SettingWithCopyWarning: \n",
      "A value is trying to be set on a copy of a slice from a DataFrame\n",
      "\n",
      "See the caveats in the documentation: https://pandas.pydata.org/pandas-docs/stable/user_guide/indexing.html#returning-a-view-versus-a-copy\n",
      "  time_SGRBs[i] = float(temps)\n",
      "C:\\Users\\iriso\\AppData\\Local\\Temp\\ipykernel_11988\\3688422407.py:25: SettingWithCopyWarning: \n",
      "A value is trying to be set on a copy of a slice from a DataFrame\n",
      "\n",
      "See the caveats in the documentation: https://pandas.pydata.org/pandas-docs/stable/user_guide/indexing.html#returning-a-view-versus-a-copy\n",
      "  time_SGRBs[i] = temps\n"
     ]
    }
   ],
   "source": [
    "fluence_SGRBs = SGRBs_data['BAT Fluence (15-150 keV) [10^-7 erg/cm^2]']\n",
    "for flu, i in zip(fluence_SGRBs, range(len(fluence_SGRBs))):\n",
    "    try: \n",
    "        fluence_SGRBs[i] = float(flu)\n",
    "    except ValueError:\n",
    "        print('ValueError')\n",
    "        print(flu)\n",
    "        if flu == '':\n",
    "            fluence_SGRBs[i] = None\n",
    "        else:\n",
    "            fluence_SGRBs[i] = float(flu.strip('n/a').strip('~'))\n",
    "\n",
    "fluence_SGRBs =  np.asarray(fluence_SGRBs, dtype=float)\n",
    "\n",
    "\n",
    "time_SGRBs = SGRBs_data['BAT T90 [sec]']\n",
    "for temps, i in zip(time_SGRBs, range(len(time_SGRBs))):\n",
    "    try:\n",
    "        time_SGRBs[i] = float(temps)\n",
    "    except ValueError:\n",
    "        if 'to' in temps:\n",
    "            ts = temps.split(' to ')\n",
    "            t_1, t_2 = float(ts[0].strip('~')), float(ts[1].strip('~'))\n",
    "            temps = 0.5*(t_1+t_2)\n",
    "            time_SGRBs[i] = temps\n",
    "        else:\n",
    "            time_SGRBs[i] = float(temps.strip('~').strip('>').strip('<'))\n",
    "\n",
    "time_SGRBs = np.asarray(time_SGRBs, dtype=float)\n",
    "mean_energy = 0.5*(150-15)\n",
    "flux_SGRBs = fluence_SGRBs*6.242*10**1/(time_SGRBs*(mean_energy**2)) # multiplied by 6.242*10**8 to convert ergs to keV and by 10**(-7), \n",
    "                                                   # the order of magnitude of the fluence"
   ]
  },
  {
   "cell_type": "markdown",
   "id": "85f7d0e1",
   "metadata": {},
   "source": [
    "## Plot\n",
    "### All fluences from the Swift database"
   ]
  },
  {
   "cell_type": "code",
   "execution_count": 6,
   "id": "1a50ba93",
   "metadata": {},
   "outputs": [
    {
     "data": {
      "image/png": "[encoded data removed]",
      "text/plain": [
       "<Figure size 432x432 with 1 Axes>"
      ]
     },
     "metadata": {
      "needs_background": "light"
     },
     "output_type": "display_data"
    }
   ],
   "source": [
    "LGRBs = pd.DataFrame({'GRB': LGRBs_data['GRB'], 'BAT Fluence (15-150 keV) [phot/cm^2/s/keV]': flux_LGRBs})\n",
    "LGRBs\n",
    "\n",
    "import matplotlib.pyplot as plt\n",
    "import matplotlib\n",
    "\n",
    "plt.rcParams.update({'font.size': 15})\n",
    "matplotlib.rc('axes', labelsize=15)\n",
    "\n",
    "plt.figure(figsize=(6,6))\n",
    "# E_array_LGRBs = [mean_energy for i in range(len(flux_LGRBs))]\n",
    "# E_array_SGRBs = [mean_energy for i in range(len(flux_SGRBs))]\n",
    "# plt.scatter(E_array_LGRBs, flux_LGRBs, label = 'LGRBs')\n",
    "# plt.scatter(E_array_SGRBs, flux_SGRBs, label = 'SGRBs')\n",
    "GRBs = [flux_LGRBs, flux_SGRBs]\n",
    "GRBs_labs = ['LGRBs', 'SGRBs']\n",
    "GRBs_colors = ['r', 'b']\n",
    "for GRB, GRBs_color in zip(GRBs, GRBs_colors):\n",
    "    for flux in GRB:\n",
    "        plt.axhline(y = flux,  c = GRBs_color, linestyle = '-', alpha = 0.5)\n",
    "\n",
    "plt.axhline(y = flux_LGRBs[0],  c = GRBs_colors[0], linestyle = '-', label = 'LGRBs')\n",
    "plt.axhline(y = flux_SGRBs[0],  c = GRBs_colors[1], linestyle = '-', label = 'SGRBs')\n",
    "plt.xlim(15, 150)\n",
    "plt.xlabel('E [keV]')\n",
    "plt.ylabel('F [phot/cm$^2$/s/keV]')\n",
    "plt.legend(loc = 'upper center', bbox_to_anchor=[0.5, -0.1], ncol = 2, labelspacing = 0.05, frameon=False, fontsize = 15)\n",
    "plt.yscale('log')"
   ]
  },
  {
   "cell_type": "markdown",
   "id": "d451999a",
   "metadata": {},
   "source": [
    "### Minimum and maximum values for each case (L/SGRBs)"
   ]
  },
  {
   "cell_type": "code",
   "execution_count": 7,
   "id": "473b24c1",
   "metadata": {},
   "outputs": [
    {
     "data": {
      "image/png": "[encoded data removed]",
      "text/plain": [
       "<Figure size 432x432 with 1 Axes>"
      ]
     },
     "metadata": {
      "needs_background": "light"
     },
     "output_type": "display_data"
    }
   ],
   "source": [
    "# find the maximum values\n",
    "idx_max_LGRB, max_LGRB = np.nanargmax(flux_LGRBs), np.nanmax(flux_LGRBs)\n",
    "idx_max_SGRB, max_SGRB = np.nanargmax(flux_SGRBs), np.nanmax(flux_SGRBs)\n",
    "\n",
    "# find the minimum values\n",
    "# in the case of LGRB we need to get rid of null values (0)\n",
    "idx_min_LGRB = np.where(flux_LGRBs==np.nanmin(flux_LGRBs[np.nonzero(flux_LGRBs)]))[0][0]\n",
    "min_LGRB = flux_LGRBs[idx_min_LGRB]\n",
    "# minimum for SGRB\n",
    "idx_min_SGRB, min_SGRB = np.nanargmin(flux_SGRBs), np.nanmin(flux_SGRBs)\n",
    "\n",
    "# and their corresponding name\n",
    "name_max_LGRB = LGRBs_data.loc[idx_max_LGRB]['GRB']\n",
    "name_max_SGRB = SGRBs_data.loc[idx_max_SGRB]['GRB']\n",
    "\n",
    "\n",
    "name_min_LGRB = LGRBs_data.loc[idx_min_LGRB]['GRB']\n",
    "name_min_SGRB = SGRBs_data.loc[idx_min_SGRB]['GRB']\n",
    "\n",
    "\n",
    "plt.figure(figsize=(6,6))\n",
    "GRBs_labs = ['LGRBs', 'SGRBs']\n",
    "GRBs_colors = ['r', 'b']\n",
    "\n",
    "plt.axhline(y = max_LGRB,  c = GRBs_colors[0], linestyle = '-', label = 'max LGRB, GRB'  + name_max_LGRB)\n",
    "plt.axhline(y = max_SGRB,  c = GRBs_colors[1], linestyle = '-', label = 'max SGRBs, GRB' + name_max_SGRB)\n",
    "\n",
    "plt.axhline(y = min_LGRB,  c = 'g', linestyle = '-', label = 'min LGRB, GRB' + name_min_LGRB)\n",
    "plt.axhline(y = min_SGRB,  c = 'purple', linestyle = '-', label = 'min SGRBs, GRB' + name_min_SGRB)\n",
    "\n",
    "plt.xlim(15, 150)\n",
    "plt.xlabel('E [keV]')\n",
    "plt.ylabel('F [phot/cm$^2$/s/keV]')\n",
    "plt.legend(loc = 'upper center', bbox_to_anchor=[0.5, -0.1], ncol = 2, labelspacing = 0.05, frameon=False, fontsize = 15)\n",
    "plt.yscale('log')"
   ]
  },
  {
   "cell_type": "markdown",
   "id": "af14e368",
   "metadata": {},
   "source": [
    "Saved in a CSV file:"
   ]
  },
  {
   "cell_type": "code",
   "execution_count": 8,
   "id": "4062cced",
   "metadata": {},
   "outputs": [],
   "source": [
    "minmax_GRBs = pd.DataFrame({'GRB_name': [name_min_LGRB, name_min_SGRB, name_max_SGRB, name_max_LGRB], \n",
    "              'F [phot/cm^2/s/keV]': [min_LGRB, min_SGRB, max_SGRB, max_LGRB]})\n",
    "minmax_GRBs.to_csv('minmax_GRBs.csv', index=False)  "
   ]
  },
  {
   "cell_type": "markdown",
   "id": "8f79e19a",
   "metadata": {},
   "source": [
    "## SGRB: GRB 170817A\n",
    "Joint detection of a GRB and a GW.\n",
    "\n",
    "Extracted from its GCN circular (https://gcn.gsfc.nasa.gov/other/G298048.gcn3):\n",
    "\n",
    "> The estimated GRB duration is $\\sim 2$ s and is best fit by a power-law function with an exponential high-energy cutoff from T0-0.75 to T0+1.25 s.  The power-law index is -0.88 +/- 0.44 and the cutoff energy, parametrized as Epeak, is 128.0 +/- 48.7 keV. The event fluence (10-1000 keV) in this time interval is (2.2 +/- 0.5)e-7 erg/cm^2.\n",
    "\n",
    "Using the power law model formula from https://heasarc.gsfc.nasa.gov/xanadu/xspec/manual/node221.html: $F=KE^{\\alpha}$.\n",
    "\n",
    "We get the constant from the fluence (the flux integrated over time and the energy range of the burst lightcurve, [erg/keV/cm$^2$]: \n",
    "\n",
    "\\\\[\n",
    "K=\\frac{2\\cdot fluence}{T_{90}(E_f-E_i)(E_f^{\\alpha}+E_i^{\\alpha})}\\ .\n",
    "\\\\]\n",
    "Then we get the flux in the units we want as $f=KE^{\\alpha-1}$ [phot/s/cm$^2$/keV]."
   ]
  },
  {
   "cell_type": "code",
   "execution_count": 9,
   "id": "d7070274",
   "metadata": {},
   "outputs": [
    {
     "data": {
      "image/png": "[encoded data removed]",
      "text/plain": [
       "<Figure size 432x432 with 1 Axes>"
      ]
     },
     "metadata": {
      "needs_background": "light"
     },
     "output_type": "display_data"
    }
   ],
   "source": [
    "fluence = 2.2 *10**(-7) # erg/cm^2\n",
    "E_cutoff = 128 # keV\n",
    "E_ini = 10 # keV\n",
    "E_fi = 1000 # keV\n",
    "alpha = -0.88\n",
    "T90 = 2 #s\n",
    "\n",
    "E_values = np.linspace(15, 1000, 100)\n",
    "K = 2*fluence*6.242*10**8/(T90*(E_fi-E_ini)*(E_fi**alpha+E_ini**alpha)) # the fluence is integrated over the range 10-1000 keV. \n",
    "# To compute the K constant of the model we must assume the power law keeps working for values higher than the cutoff energy\n",
    "\n",
    "plt.figure(figsize=(6,6))\n",
    "F_SGRB = K*E_values**(alpha-1)\n",
    "plt.plot(E_values, F_SGRB) # we divide by the E (hence the (-1) in the exponent) to get the correct units, \n",
    "                                          # [phot/cm^2/s/keV]\n",
    "\n",
    "plt.xlabel('E [keV]')\n",
    "plt.ylabel('F [phot/cm$^2$/s/keV]')\n",
    "\n",
    "plt.yscale('log')\n",
    "plt.xscale('log')"
   ]
  },
  {
   "cell_type": "code",
   "execution_count": 14,
   "id": "b2ba7ce3",
   "metadata": {},
   "outputs": [
    {
     "data": {
      "image/png": "[encoded data removed]",
      "text/plain": [
       "<Figure size 432x432 with 1 Axes>"
      ]
     },
     "metadata": {
      "needs_background": "light"
     },
     "output_type": "display_data"
    }
   ],
   "source": [
    "fluence = 2.2 *10**(-7) # erg/cm^2\n",
    "E_cutoff = 128 # keV\n",
    "E_ini = 10 # keV\n",
    "E_fi = 1000 # keV\n",
    "alpha = -0.88\n",
    "T90 = 2 #s\n",
    "\n",
    "K = 2*fluence*6.242*10**8/(T90*(E_fi-E_ini)*(E_fi**alpha+E_ini**alpha)) # the fluence is integrated over the range 10-1000 keV. \n",
    "# To compute the K constant of the model we must assume the power law keeps working for values higher than the cutoff energy.\n",
    "\n",
    "beta=-2\n",
    "K = 2*fluence*6.242*10**8/(T90*((E_cutoff-E_ini)*(E_cutoff**alpha+E_ini**alpha)+(E_fi-E_cutoff)*E_cutoff**alpha)) # the fluence is integrated over the range 10-1000 keV. \n",
    "K_prime = K*E_cutoff**(alpha-beta)\n",
    "\n",
    "plt.figure(figsize=(6,6))\n",
    "\n",
    "E_values_1 = np.linspace(15, E_cutoff, 100)\n",
    "E_values_2 = np.linspace(E_cutoff, E_fi, 100)\n",
    "\n",
    "F_SGRB_1 = K*E_values_1**(alpha-1)\n",
    "F_SGRB_2 = K_prime*E_values_2**(beta-1)\n",
    "plt.plot(E_values_1, F_SGRB_1) # we divide by the E (hence the (-1) in the exponent) to get the correct units, \n",
    "                                          # [phot/cm^2/s/keV]\n",
    "plt.plot(E_values_2, F_SGRB_2)\n",
    "\n",
    "plt.xlabel('E [keV]')\n",
    "plt.ylabel('F [phot/cm$^2$/s/keV]')\n",
    "\n",
    "plt.yscale('log')\n",
    "plt.xscale('log')"
   ]
  },
  {
   "cell_type": "code",
   "execution_count": 21,
   "id": "f512caea",
   "metadata": {},
   "outputs": [],
   "source": [
    "E_values = np.concatenate((E_values_1, E_values_2))\n",
    "F_SGRB = np.concatenate((F_SGRB_1, F_SGRB_2))\n",
    "\n",
    "SGRB_spectrum_GRB170817A = pd.DataFrame({'E': E_values, 'F [phot/cm^2/s/keV]': F_SGRB})\n",
    "SGRB_spectrum_GRB170817A.to_csv('SGRB_spectrum_GRB170817A.csv', index=False)"
   ]
  },
  {
   "cell_type": "markdown",
   "id": "3cd87905",
   "metadata": {},
   "source": [
    "## LGRBs: GRB 060218\n",
    "GRB connected to a SN.\n",
    "\n",
    "Extracted from its GCN circular: https://gcn.gsfc.nasa.gov/other/060218.gcn3.\n",
    "\n",
    "> The time-averaged spectrum from T-8 to T+2732 is best fit by a simple power-law model.  The power law index of the time-averaged spectrum is 2.5 +- 0.1.  The fluence in the 15-150 keV band is 6.8 +- 0.4 x 10^-6 erg/cm2.  The peak energy flux in 1.6 sec time interval starting from T+455.2 sec in the 15-150 keV band is 2.0 +- 1.1 x 10^-8 erg/cm2/sec.\n",
    "\n",
    "We follow the same steps as previously. Redshift: $z = 0.033$."
   ]
  },
  {
   "cell_type": "code",
   "execution_count": 24,
   "id": "f3a67da1",
   "metadata": {},
   "outputs": [
    {
     "data": {
      "image/png": "[encoded data removed]",
      "text/plain": [
       "<Figure size 432x432 with 1 Axes>"
      ]
     },
     "metadata": {
      "needs_background": "light"
     },
     "output_type": "display_data"
    }
   ],
   "source": [
    "fluence_LGRB = 6.8*10**(-6) # erg/cm^2\n",
    "E_ini_LGRB = 15 # keV\n",
    "E_fi_LGRB = 150 # keV\n",
    "alpha_LGRB = -2.5\n",
    "T90_LGRB = 2732-(-8) #s\n",
    "\n",
    "E_values_LGRB = np.linspace(15, 1000, 100)\n",
    "K_LGRB = 2*fluence_LGRB*6.242*10**8/(T90_LGRB*(E_fi_LGRB-E_ini_LGRB)*(E_fi_LGRB**alpha_LGRB+E_ini_LGRB**alpha_LGRB)) # the fluence is integrated over the range 10-1000 keV. \n",
    "# To compute the K constant of the model we must assume the power law keeps working for values higher than the cutoff energy.\n",
    "\n",
    "plt.figure(figsize=(6,6))\n",
    "F_LGRB = K_LGRB*E_values_LGRB**(alpha_LGRB-1)\n",
    "plt.plot(E_values_LGRB, F_LGRB) # we divide by the E (hence the (-1) in the exponent) to get the correct units, \n",
    "                                          # [phot/cm^2/s/keV]\n",
    "\n",
    "plt.xlabel('E [keV]')\n",
    "plt.ylabel('F [phot/cm$^2$/s/keV]')\n",
    "\n",
    "plt.yscale('log')\n",
    "plt.xscale('log')"
   ]
  },
  {
   "cell_type": "code",
   "execution_count": 25,
   "id": "f08930f3",
   "metadata": {},
   "outputs": [],
   "source": [
    "LGRB_spectrum_GRB060218 = pd.DataFrame({'E': E_values_LGRB, 'F [phot/cm^2/s/keV]': F_LGRB})\n",
    "LGRB_spectrum_GRB060218.to_csv('LGRB_spectrum_GRB060218.csv', index=False)"
   ]
  },
  {
   "cell_type": "markdown",
   "id": "c265bf84",
   "metadata": {},
   "source": [
    "# Histogram"
   ]
  },
  {
   "cell_type": "code",
   "execution_count": 26,
   "id": "a782297c",
   "metadata": {
    "scrolled": false
   },
   "outputs": [
    {
     "data": {
      "image/png": "[encoded data removed]",
      "text/plain": [
       "<Figure size 432x432 with 1 Axes>"
      ]
     },
     "metadata": {
      "needs_background": "light"
     },
     "output_type": "display_data"
    }
   ],
   "source": [
    "# to get rid of the nan values\n",
    "fluence_LGRBs_wo_nan = fluence_LGRBs[fluence_LGRBs==fluence_LGRBs] \n",
    "# to produce an histogram from the fluence data\n",
    "hist_LGRBs, hist_E_LGRBs = np.histogram(fluence_LGRBs_wo_nan, bins = 200)\n",
    "\n",
    "# idem for SGRBs\n",
    "fluence_SGRBs_wo_nan = fluence_SGRBs[fluence_SGRBs==fluence_SGRBs]\n",
    "hist_SGRBs, hist_E_SGRBs = np.histogram(fluence_SGRBs_wo_nan, bins = 200)\n",
    "\n",
    "# Plot\n",
    "fig = plt.figure(figsize=(6,6))\n",
    "plt.stairs(hist_LGRBs, hist_E_LGRBs, fill = True, label = 'LGRBs')\n",
    "plt.stairs(hist_SGRBs, hist_E_SGRBs, fill = True, label = 'SGRBs')\n",
    "\n",
    "plt.legend()\n",
    "plt.xlabel('BAT Fluence (15-150 keV) [10$^{-7}$ erg/cm$^2$]')\n",
    "plt.ylabel('Number of detected GRBs')\n",
    "plt.yscale('log')\n",
    "plt.xscale('log')\n",
    "\n",
    "fig.tight_layout()\n",
    "plt.savefig('GRBs_BAT_fluence_distribution.png', bbox_inches='tight')"
   ]
  },
  {
   "cell_type": "code",
   "execution_count": null,
   "id": "c80ecf0a",
   "metadata": {},
   "outputs": [],
   "source": []
  }
 ],
 "metadata": {
  "kernelspec": {
   "display_name": "Python 3 (ipykernel)",
   "language": "python",
   "name": "python3"
  },
  "language_info": {
   "codemirror_mode": {
    "name": "ipython",
    "version": 3
   },
   "file_extension": ".py",
   "mimetype": "text/x-python",
   "name": "python",
   "nbconvert_exporter": "python",
   "pygments_lexer": "ipython3",
   "version": "3.9.12"
  }
 },
 "nbformat": 4,
 "nbformat_minor": 5
}
